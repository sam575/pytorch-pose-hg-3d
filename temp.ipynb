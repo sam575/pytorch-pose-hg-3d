{
 "cells": [
  {
   "cell_type": "code",
   "execution_count": 10,
   "metadata": {},
   "outputs": [],
   "source": [
    "import h5py\n",
    "import numpy as np\n",
    "import matplotlib.pyplot as plt"
   ]
  },
  {
   "cell_type": "code",
   "execution_count": 2,
   "metadata": {},
   "outputs": [],
   "source": [
    "train_covnf_ocv = h5py.File('data/classifier_data_train.h5','r')\n",
    "x = np.array(train_covnf_ocv['mpjpe'])"
   ]
  },
  {
   "cell_type": "code",
   "execution_count": 29,
   "metadata": {},
   "outputs": [
    {
     "name": "stdout",
     "output_type": "stream",
     "text": [
      "(27558, 4)\n"
     ]
    }
   ],
   "source": [
    "val_conf_ocv = h5py.File('data/h36m/classifier_data_val.h5','r')\n",
    "y = np.array(val_conf_ocv['mpjpe'])\n",
    "print(y.shape)"
   ]
  },
  {
   "cell_type": "code",
   "execution_count": 14,
   "metadata": {},
   "outputs": [],
   "source": [
    "err_diff = []\n",
    "for row in x:\n",
    "    min_score = min(row)\n",
    "    diff = row - min_score\n",
    "    err_diff.append(min(diff[diff!=0.0]))\n",
    "    \n",
    "err_diff = np.array(err_diff)"
   ]
  },
  {
   "cell_type": "code",
   "execution_count": 15,
   "metadata": {},
   "outputs": [
    {
     "data": {
      "text/plain": [
       "array([3.3280754, 3.5705795, 4.3205338, ..., 1.6399078, 2.0988102,\n",
       "       0.2702484], dtype=float32)"
      ]
     },
     "execution_count": 15,
     "metadata": {},
     "output_type": "execute_result"
    }
   ],
   "source": [
    "err_diff"
   ]
  },
  {
   "cell_type": "code",
   "execution_count": 33,
   "metadata": {},
   "outputs": [
    {
     "data": {
      "text/plain": [
       "array([30.631159, 31.448507, 32.838963, 36.31794 ], dtype=float32)"
      ]
     },
     "execution_count": 33,
     "metadata": {},
     "output_type": "execute_result"
    }
   ],
   "source": [
    "x[3499]"
   ]
  },
  {
   "cell_type": "code",
   "execution_count": 9,
   "metadata": {},
   "outputs": [
    {
     "data": {
      "text/plain": [
       "array([29.985712, 32.929703, 38.45173 , 30.13828 ], dtype=float32)"
      ]
     },
     "execution_count": 9,
     "metadata": {},
     "output_type": "execute_result"
    }
   ],
   "source": [
    "x[4]"
   ]
  },
  {
   "cell_type": "code",
   "execution_count": 16,
   "metadata": {},
   "outputs": [
    {
     "data": {
      "text/plain": [
       "(118.57311, 8.010864e-05, 5.0522094, (78047,))"
      ]
     },
     "execution_count": 16,
     "metadata": {},
     "output_type": "execute_result"
    }
   ],
   "source": [
    "np.max(err_diff),np.min(err_diff),np.mean(err_diff), err_diff.shape"
   ]
  },
  {
   "cell_type": "code",
   "execution_count": 19,
   "metadata": {},
   "outputs": [
    {
     "data": {
      "text/plain": [
       "6380"
      ]
     },
     "execution_count": 19,
     "metadata": {},
     "output_type": "execute_result"
    }
   ],
   "source": [
    "np.sum(err_diff < 0.5)"
   ]
  },
  {
   "cell_type": "code",
   "execution_count": 17,
   "metadata": {},
   "outputs": [
    {
     "data": {
      "text/plain": [
       "[<matplotlib.lines.Line2D at 0x7f8040385be0>]"
      ]
     },
     "execution_count": 17,
     "metadata": {},
     "output_type": "execute_result"
    },
    {
     "data": {
      "image/png": "[encoded data removed]",
      "text/plain": [
       "<Figure size 432x288 with 1 Axes>"
      ]
     },
     "metadata": {
      "needs_background": "light"
     },
     "output_type": "display_data"
    }
   ],
   "source": [
    "plt.figure()\n",
    "plt.plot(err_diff)"
   ]
  },
  {
   "cell_type": "code",
   "execution_count": 22,
   "metadata": {},
   "outputs": [
    {
     "data": {
      "text/plain": [
       "<KeysViewHDF5 ['action', 'bbox', 'id', 'joint_2d_gt', 'joint_2d_pred', 'joint_3d_gt', 'mpjpe', 'subaction', 'subject']>"
      ]
     },
     "execution_count": 22,
     "metadata": {},
     "output_type": "execute_result"
    }
   ],
   "source": [
    "train_covnf_ocv.keys()"
   ]
  },
  {
   "cell_type": "code",
   "execution_count": 26,
   "metadata": {},
   "outputs": [
    {
     "name": "stdout",
     "output_type": "stream",
     "text": [
      "<HDF5 dataset \"action\": shape (78047,), type \"|u1\">\n",
      "2\n",
      "<HDF5 dataset \"bbox\": shape (78047, 4, 4), type \"<u2\">\n",
      "[[265 265 658 658]\n",
      " [352 236 728 612]\n",
      " [443 197 827 581]\n",
      " [273 137 771 635]]\n",
      "<HDF5 dataset \"id\": shape (78047,), type \"<u2\">\n",
      "1\n",
      "<HDF5 dataset \"joint_2d_gt\": shape (78047, 4, 16, 2), type \"<f4\">\n",
      "[[[137.13937  203.28787 ]\n",
      "  [122.142105 151.10655 ]\n",
      "  [134.17036  104.057594]\n",
      "  [102.84673  100.52475 ]\n",
      "  [108.69632  154.72946 ]\n",
      "  [115.01845  209.65567 ]\n",
      "  [118.642395 102.302284]\n",
      "  [126.88787   75.29246 ]\n",
      "  [122.818184  42.865284]\n",
      "  [125.5133    18.517878]\n",
      "  [142.40004  108.833206]\n",
      "  [145.15392   84.323074]\n",
      "  [138.22865   52.01548 ]\n",
      "  [107.460884  53.873486]\n",
      "  [ 93.84051   85.697   ]\n",
      "  [ 84.14053  106.81881 ]]\n",
      "\n",
      " [[102.30385  196.96098 ]\n",
      "  [103.35151  154.13206 ]\n",
      "  [106.1785   101.182915]\n",
      "  [135.81111   98.98996 ]\n",
      "  [129.72466  151.36557 ]\n",
      "  [126.783066 201.35194 ]\n",
      "  [120.84476  100.09314 ]\n",
      "  [118.92134   72.23214 ]\n",
      "  [122.68948   41.271584]\n",
      "  [119.73654   17.640327]\n",
      "  [ 86.32072  109.3137  ]\n",
      "  [ 95.876     81.57186 ]\n",
      "  [107.32828   49.66653 ]\n",
      "  [136.587     52.455994]\n",
      "  [142.85913   85.33302 ]\n",
      "  [138.84787  111.66895 ]]\n",
      "\n",
      " [[123.64812  207.31938 ]\n",
      "  [120.33189  153.14233 ]\n",
      "  [117.58867  105.263885]\n",
      "  [ 87.136154 100.70826 ]\n",
      "  [ 94.2016   154.60376 ]\n",
      "  [ 97.963745 209.78342 ]\n",
      "  [102.21229  102.955345]\n",
      "  [103.69978   75.80893 ]\n",
      "  [ 98.953835  43.31339 ]\n",
      "  [101.373795  18.705122]\n",
      "  [137.4482   110.95275 ]\n",
      "  [128.23111   85.240486]\n",
      "  [115.41587   52.020687]\n",
      "  [ 85.0745    54.757706]\n",
      "  [ 80.11605   86.06756 ]\n",
      "  [ 85.32674  106.77773 ]]\n",
      "\n",
      " [[ 78.78234  196.39297 ]\n",
      "  [ 96.82227  155.17595 ]\n",
      "  [ 88.820244 101.93948 ]\n",
      "  [119.05422   98.12272 ]\n",
      "  [109.404724 148.62735 ]\n",
      "  [ 99.48362  195.93413 ]\n",
      "  [104.08008  100.00303 ]\n",
      "  [ 98.259285  72.381096]\n",
      "  [104.64275   41.686874]\n",
      "  [104.01707   18.002954]\n",
      "  [ 79.06137  112.03085 ]\n",
      "  [ 79.23019   82.67099 ]\n",
      "  [ 88.9997    49.89854 ]\n",
      "  [118.100426  52.911396]\n",
      "  [128.7457    84.848656]\n",
      "  [138.35704  110.84803 ]]]\n",
      "<HDF5 dataset \"joint_2d_pred\": shape (78047, 4, 16, 2), type \"<f4\">\n",
      "[[[38.       58.59375 ]\n",
      "  [34.       42.53125 ]\n",
      "  [38.       29.59375 ]\n",
      "  [28.       28.4375  ]\n",
      "  [30.       44.46875 ]\n",
      "  [32.       60.5     ]\n",
      "  [33.       28.515625]\n",
      "  [34.       14.53125 ]\n",
      "  [34.       12.53125 ]\n",
      "  [35.        5.546875]\n",
      "  [40.       30.625   ]\n",
      "  [40.       22.625   ]\n",
      "  [39.       14.609375]\n",
      "  [30.       15.46875 ]\n",
      "  [26.       24.40625 ]\n",
      "  [23.       30.359375]]\n",
      "\n",
      " [[29.       56.453125]\n",
      "  [29.       44.453125]\n",
      "  [30.       28.46875 ]\n",
      "  [38.       28.59375 ]\n",
      "  [37.       43.578125]\n",
      "  [36.       57.5625  ]\n",
      "  [34.       28.53125 ]\n",
      "  [34.       14.53125 ]\n",
      "  [34.       11.53125 ]\n",
      "  [34.        5.53125 ]\n",
      "  [24.       31.375   ]\n",
      "  [27.       22.421875]\n",
      "  [30.       13.46875 ]\n",
      "  [38.       15.59375 ]\n",
      "  [40.       24.625   ]\n",
      "  [39.       32.609375]]\n",
      "\n",
      " [[36.       59.5625  ]\n",
      "  [35.       43.546875]\n",
      "  [33.       29.515625]\n",
      "  [25.       28.390625]\n",
      "  [27.       43.421875]\n",
      "  [28.       60.4375  ]\n",
      "  [29.       29.453125]\n",
      "  [28.       14.4375  ]\n",
      "  [28.       12.4375  ]\n",
      "  [29.        5.453125]\n",
      "  [39.       31.609375]\n",
      "  [36.       24.5625  ]\n",
      "  [33.       14.515625]\n",
      "  [24.       14.375   ]\n",
      "  [23.       23.359375]\n",
      "  [26.       29.40625 ]]\n",
      "\n",
      " [[22.       56.34375 ]\n",
      "  [27.       44.421875]\n",
      "  [25.       29.390625]\n",
      "  [33.       27.515625]\n",
      "  [31.       42.484375]\n",
      "  [28.       56.4375  ]\n",
      "  [29.       28.453125]\n",
      "  [29.       14.453125]\n",
      "  [29.       12.453125]\n",
      "  [29.        6.453125]\n",
      "  [22.       32.34375 ]\n",
      "  [22.       24.34375 ]\n",
      "  [25.       14.390625]\n",
      "  [33.       15.515625]\n",
      "  [36.       23.5625  ]\n",
      "  [39.       31.609375]]]\n",
      "<HDF5 dataset \"joint_3d_gt\": shape (78047, 4, 16, 3), type \"<f4\">\n",
      "[[[  -29.831795    506.7845     5400.1387   ]\n",
      "  [ -155.64168      73.071815   5448.807    ]\n",
      "  [  -52.96187    -309.70444    5251.083    ]\n",
      "  [ -300.50003    -332.39282    5156.6816   ]\n",
      "  [ -258.2405       99.609146   5244.6816   ]\n",
      "  [ -209.48438     548.83386    5290.7637   ]\n",
      "  [ -176.73106    -321.04868    5203.8823   ]\n",
      "  [ -109.157906   -529.7282     5123.891    ]\n",
      "  [ -140.19139    -780.12134    5074.605    ]\n",
      "  [ -118.93498    -970.22833    5058.599    ]\n",
      "  [   13.892447   -279.85294    5421.0684   ]\n",
      "  [   35.791443   -470.14493    5257.739    ]\n",
      "  [  -19.760569   -716.9181     5140.2725   ]\n",
      "  [ -259.09024    -690.1335     5050.5923   ]\n",
      "  [ -370.67102    -448.5993     5134.1772   ]\n",
      "  [ -462.2867     -290.8295     5307.6274   ]]\n",
      "\n",
      " [[   77.95758     302.6482     5839.299    ]\n",
      "  [   82.80014     -61.397057   5567.7275   ]\n",
      "  [  107.18802    -499.59406    5627.2617   ]\n",
      "  [  344.47934    -507.06726    5507.519    ]\n",
      "  [  301.55634     -85.00573    5634.708    ]\n",
      "  [  285.5867      338.18912    5798.8867   ]\n",
      "  [  225.83357    -503.3307     5567.39     ]\n",
      "  [  211.40709    -735.22736    5590.3623   ]\n",
      "  [  239.65063    -978.12445    5511.0386   ]\n",
      "  [  214.6203    -1163.5884     5468.315    ]\n",
      "  [  -56.113224   -428.3884     5577.08     ]\n",
      "  [   22.273962   -662.2353     5627.4634   ]\n",
      "  [  116.16729    -919.63324    5575.39     ]\n",
      "  [  349.96216    -881.12506    5475.913    ]\n",
      "  [  396.3653     -609.6711     5431.9233   ]\n",
      "  [  355.97736    -390.19708    5315.434    ]]\n",
      "\n",
      " [[  641.8968      245.81232    5419.5703   ]\n",
      "  [  625.37756    -198.17426    5513.945    ]\n",
      "  [  577.85956    -569.77216    5277.6973   ]\n",
      "  [  343.3768     -618.4466     5393.24     ]\n",
      "  [  404.20187    -183.77362    5452.529    ]\n",
      "  [  437.2991      268.39984    5479.8667   ]\n",
      "  [  460.61826    -594.1093     5335.4688   ]\n",
      "  [  462.9638     -795.3054     5217.035    ]\n",
      "  [  424.56732   -1047.9065     5188.6216   ]\n",
      "  [  441.35434   -1234.9323     5148.769    ]\n",
      "  [  745.6329     -531.9998     5346.116    ]\n",
      "  [  654.5623     -720.1923     5205.9126   ]\n",
      "  [  549.25305    -972.1974     5149.4805   ]\n",
      "  [  320.0679     -970.7852     5265.7163   ]\n",
      "  [  288.25375    -741.4054     5421.114    ]\n",
      "  [  342.22604    -592.6533     5616.8926   ]]\n",
      "\n",
      " [[ -258.41055     282.59113    4447.0317   ]\n",
      "  [  -96.631355    -70.64059    4211.748    ]\n",
      "  [ -162.68095    -508.5765     4214.016    ]\n",
      "  [   87.44949    -550.3009     4293.9863   ]\n",
      "  [    6.7392054  -130.12306    4408.4062   ]\n",
      "  [  -81.21538     285.98538    4567.847    ]\n",
      "  [  -37.615906   -529.43866    4254.0015   ]\n",
      "  [  -85.64417    -756.6731     4230.132    ]\n",
      "  [  -32.378124   -998.88824    4162.43     ]\n",
      "  [  -36.944122  -1176.9427     4090.8455   ]\n",
      "  [ -234.71425    -411.2736     4074.019    ]\n",
      "  [ -237.41698    -655.75635    4133.921    ]\n",
      "  [ -158.88683    -923.3252     4129.3203   ]\n",
      "  [   78.735374   -919.6223     4227.0986   ]\n",
      "  [  167.7179     -657.84235    4263.5537   ]\n",
      "  [  242.49367    -431.85434    4181.6523   ]]]\n",
      "<HDF5 dataset \"mpjpe\": shape (78047, 4), type \"<f4\">\n",
      "[33.106525 36.4346   45.40353  37.303017]\n",
      "<HDF5 dataset \"subaction\": shape (78047,), type \"|u1\">\n",
      "1\n",
      "<HDF5 dataset \"subject\": shape (78047,), type \"|u1\">\n",
      "1\n"
     ]
    }
   ],
   "source": [
    "for key in train_covnf_ocv.keys():\n",
    "    print(train_covnf_ocv[key])\n",
    "    print(train_covnf_ocv[key][0])"
   ]
  },
  {
   "cell_type": "code",
   "execution_count": 27,
   "metadata": {},
   "outputs": [
    {
     "data": {
      "text/plain": [
       "537238.0"
      ]
     },
     "execution_count": 27,
     "metadata": {},
     "output_type": "execute_result"
    }
   ],
   "source": [
    "2148952/4"
   ]
  },
  {
   "cell_type": "code",
   "execution_count": 39,
   "metadata": {},
   "outputs": [],
   "source": [
    "img_path = 's_11_act_02_subact_02_ca_01_001711.jpg'"
   ]
  },
  {
   "cell_type": "code",
   "execution_count": 42,
   "metadata": {},
   "outputs": [
    {
     "name": "stdout",
     "output_type": "stream",
     "text": [
      "11 2 2 1 1711\n"
     ]
    }
   ],
   "source": [
    "s,a,sub,cam = np.array(img_path.split('_')[1::2]).astype(np.int)\n",
    "idd = int(img_path.split('_')[-1].strip('.jpg'))\n",
    "print(s,a,sub,cam, idd)"
   ]
  },
  {
   "cell_type": "code",
   "execution_count": 45,
   "metadata": {},
   "outputs": [
    {
     "name": "stdout",
     "output_type": "stream",
     "text": [
      "/home/vectorweb3/Documents/Development_Sandbox/rak/vision/pytorch-pose-hg-3d/src\n"
     ]
    }
   ],
   "source": [
    "cd src"
   ]
  },
  {
   "cell_type": "code",
   "execution_count": 49,
   "metadata": {},
   "outputs": [
    {
     "name": "stdout",
     "output_type": "stream",
     "text": [
      "/home/vectorweb3/Documents/Development_Sandbox/rak/vision/pytorch-pose-hg-3d/src/lib\n"
     ]
    }
   ],
   "source": [
    "cd lib"
   ]
  },
  {
   "cell_type": "code",
   "execution_count": 67,
   "metadata": {},
   "outputs": [
    {
     "data": {
      "text/plain": [
       "array([[49.222015, 49.88009 , 53.917007, 43.897743],\n",
       "       [45.44307 , 46.24754 , 47.93959 , 43.21526 ],\n",
       "       [44.95939 , 46.468807, 53.777744, 41.725597],\n",
       "       [47.269676, 45.03511 , 49.66266 , 49.253044],\n",
       "       [47.920593, 45.8396  , 52.620525, 40.939365],\n",
       "       [49.34487 , 44.693687, 61.282703, 45.488857],\n",
       "       [44.586464, 42.566055, 44.053864, 51.07917 ],\n",
       "       [39.070644, 39.59685 , 47.810783, 42.10605 ]], dtype=float32)"
      ]
     },
     "execution_count": 67,
     "metadata": {},
     "output_type": "execute_result"
    }
   ],
   "source": [
    "x[16520:16528]"
   ]
  },
  {
   "cell_type": "code",
   "execution_count": 61,
   "metadata": {},
   "outputs": [
    {
     "data": {
      "text/plain": [
       "array([[[31.      , 58.484375],\n",
       "        [31.      , 39.484375],\n",
       "        [37.      , 32.578125],\n",
       "        [28.      , 34.4375  ],\n",
       "        [20.      , 41.3125  ],\n",
       "        [21.      , 59.328125],\n",
       "        [33.      , 33.515625],\n",
       "        [33.      , 16.515625],\n",
       "        [33.      , 13.515625],\n",
       "        [32.      ,  6.5     ],\n",
       "        [33.      , 19.515625],\n",
       "        [43.      , 19.671875],\n",
       "        [38.      , 15.59375 ],\n",
       "        [28.      , 16.4375  ],\n",
       "        [22.      , 25.34375 ],\n",
       "        [24.      , 24.375   ]],\n",
       "\n",
       "       [[25.      , 54.390625],\n",
       "        [24.      , 38.375   ],\n",
       "        [30.      , 27.46875 ],\n",
       "        [38.      , 28.59375 ],\n",
       "        [34.      , 40.53125 ],\n",
       "        [33.      , 56.515625],\n",
       "        [34.      , 28.53125 ],\n",
       "        [33.      , 13.515625],\n",
       "        [33.      , 11.515625],\n",
       "        [32.      ,  6.5     ],\n",
       "        [25.      , 20.390625],\n",
       "        [20.      , 18.3125  ],\n",
       "        [29.      , 13.453125],\n",
       "        [38.      , 13.59375 ],\n",
       "        [42.      , 22.65625 ],\n",
       "        [33.      , 24.515625]],\n",
       "\n",
       "       [[40.      , 59.625   ],\n",
       "        [41.      , 39.640625],\n",
       "        [33.      , 33.515625],\n",
       "        [24.      , 34.375   ],\n",
       "        [28.      , 40.4375  ],\n",
       "        [31.      , 59.484375],\n",
       "        [28.      , 33.4375  ],\n",
       "        [28.      , 16.4375  ],\n",
       "        [28.      , 13.4375  ],\n",
       "        [29.      ,  6.453125],\n",
       "        [38.      , 20.59375 ],\n",
       "        [44.      , 20.6875  ],\n",
       "        [34.      , 16.53125 ],\n",
       "        [23.      , 16.359375],\n",
       "        [19.      , 24.296875],\n",
       "        [28.      , 23.4375  ]],\n",
       "\n",
       "       [[27.      , 56.421875],\n",
       "        [29.      , 40.453125],\n",
       "        [25.      , 28.390625],\n",
       "        [33.      , 28.515625],\n",
       "        [39.      , 40.609375],\n",
       "        [36.      , 56.5625  ],\n",
       "        [29.      , 28.453125],\n",
       "        [31.      , 13.484375],\n",
       "        [31.      , 11.484375],\n",
       "        [32.      ,  6.5     ],\n",
       "        [29.      , 21.453125],\n",
       "        [20.      , 20.3125  ],\n",
       "        [26.      , 13.40625 ],\n",
       "        [35.      , 13.546875],\n",
       "        [40.      , 22.625   ],\n",
       "        [37.      , 24.578125]]], dtype=float32)"
      ]
     },
     "execution_count": 61,
     "metadata": {},
     "output_type": "execute_result"
    }
   ],
   "source": [
    "train_covnf_ocv['joint_2d_pred'][16574]"
   ]
  },
  {
   "cell_type": "code",
   "execution_count": 68,
   "metadata": {},
   "outputs": [
    {
     "name": "stdout",
     "output_type": "stream",
     "text": [
      "(224, 224, 3)\n"
     ]
    }
   ],
   "source": [
    "import cv2\n",
    "img = cv2.imread('/home/vectorweb3/Documents/Development_Sandbox/rak/vision/_h36/_h36-2/s_09_act_16_subact_01_ca_04/s_09_act_16_subact_01_ca_04_000001.jpg')\n",
    "print(img.shape)"
   ]
  }
 ],
 "metadata": {
  "kernelspec": {
   "display_name": "Python 3",
   "language": "python",
   "name": "python3"
  },
  "language_info": {
   "codemirror_mode": {
    "name": "ipython",
    "version": 3
   },
   "file_extension": ".py",
   "mimetype": "text/x-python",
   "name": "python",
   "nbconvert_exporter": "python",
   "pygments_lexer": "ipython3",
   "version": "3.6.8"
  }
 },
 "nbformat": 4,
 "nbformat_minor": 2
}
